{
  "cells": [
    {
      "cell_type": "markdown",
      "metadata": {
        "colab_type": "text",
        "id": "view-in-github"
      },
      "source": [
        "<a href=\"https://colab.research.google.com/github/MiraPurkrabek/vs3-cnn-labs/blob/main/Mira_classification.ipynb\" target=\"_parent\"><img src=\"https://colab.research.google.com/assets/colab-badge.svg\" alt=\"Open In Colab\"/></a>"
      ]
    },
    {
      "cell_type": "code",
      "execution_count": null,
      "metadata": {
        "id": "acueeEjFTIo_"
      },
      "outputs": [],
      "source": [
        "!pip install kornia timm"
      ]
    },
    {
      "cell_type": "code",
      "execution_count": null,
      "metadata": {
        "id": "uNtUr_7OTUD4"
      },
      "outputs": [],
      "source": [
        "from fastai.vision.all import *"
      ]
    },
    {
      "cell_type": "code",
      "execution_count": null,
      "metadata": {
        "id": "moq8VYE7TX9P"
      },
      "outputs": [],
      "source": [
        "%load_ext autoreload\n",
        "%autoreload 2\n",
        "%matplotlib inline\n",
        "\n",
        "import matplotlib.pyplot as plt\n",
        "import numpy as np\n",
        "import cv2\n",
        "import seaborn as sns\n",
        "import torch\n",
        "torch.set_num_threads(1)\n",
        "import torch.nn as nn\n",
        "import torch.nn.functional as F\n",
        "import torchvision as tv\n",
        "import kornia as K\n",
        "from tqdm import tqdm_notebook as tqdm\n",
        "from time import time\n",
        "\n",
        "def imshow_torch(tensor,figsize=(8,6), *kwargs):\n",
        "    plt.figure(figsize=figsize)\n",
        "    plt.imshow(K.tensor_to_image(tensor), *kwargs)\n",
        "    return\n",
        "\n",
        "def imshow_torch_channels(tensor, dim = 1, *kwargs):\n",
        "    num_ch = tensor.size(dim)\n",
        "    fig=plt.figure(figsize=(num_ch*5,5))\n",
        "    tensor_splitted = torch.split(tensor, 1, dim=dim)\n",
        "    for i in range(num_ch):\n",
        "        fig.add_subplot(1, num_ch, i+1)\n",
        "        plt.imshow(K.tensor_to_image(tensor_splitted[i].squeeze(dim)), *kwargs)\n",
        "    return"
      ]
    },
    {
      "cell_type": "code",
      "execution_count": null,
      "metadata": {
        "id": "oFkrl9QVTeCt"
      },
      "outputs": [],
      "source": [
        "!wget https://s3.amazonaws.com/fast-ai-imageclas/imagenette2-160.tgz\n",
        "!tar -xzf imagenette2-160.tgz"
      ]
    },
    {
      "cell_type": "code",
      "execution_count": null,
      "metadata": {
        "id": "MrXPUKPFSbun"
      },
      "outputs": [],
      "source": [
        "dls = ImageDataLoaders.from_folder('imagenette2-160/',\n",
        "                                   valid='val', \n",
        "                                   item_tfms=RandomResizedCrop(128, min_scale=0.35),\n",
        "                                   batch_tfms=Normalize.from_stats(*imagenet_stats))\n",
        "\n",
        "# if a string is passed into the model argument, it will now use timm (if it is installed)\n",
        "learn = vision_learner(dls, 'resnet18',  metrics=error_rate)\n"
      ]
    },
    {
      "cell_type": "code",
      "execution_count": null,
      "metadata": {
        "id": "iSqmqnrzTqJF"
      },
      "outputs": [],
      "source": [
        "dls.show_batch()"
      ]
    },
    {
      "cell_type": "code",
      "execution_count": null,
      "metadata": {
        "id": "G1DVmHpXTs3J"
      },
      "outputs": [],
      "source": [
        "learn.lr_find()"
      ]
    },
    {
      "cell_type": "code",
      "execution_count": null,
      "metadata": {
        "id": "zPk98vhHTvLR"
      },
      "outputs": [],
      "source": [
        "learn.fine_tune(5,base_lr = 2e-4, freeze_epochs=2, cbs=[ShowGraphCallback()])"
      ]
    },
    {
      "cell_type": "markdown",
      "metadata": {
        "id": "YacTphWuT9QH"
      },
      "source": [
        "# Task\n",
        "\n",
        "Beer vs Trdelnik recognition"
      ]
    },
    {
      "cell_type": "code",
      "execution_count": null,
      "metadata": {
        "id": "81ETfmOMT-uC"
      },
      "outputs": [],
      "source": [
        "from fastai.data.all import *\n",
        "from fastai.vision.all import *\n",
        "\n",
        "fnames = get_image_files('data/')\n",
        "\n",
        "def label_func(fname):\n",
        "    return str(fname).split('/')[1]"
      ]
    },
    {
      "cell_type": "code",
      "execution_count": null,
      "metadata": {
        "id": "SzXXOIRZUF1e"
      },
      "outputs": [],
      "source": [
        "dblock = DataBlock(blocks    = (ImageBlock, CategoryBlock),\n",
        "                   get_items = get_image_files,\n",
        "                   get_y     = label_func,\n",
        "                   splitter  = RandomSplitter(),\n",
        "                   item_tfms = Resize(224))\n",
        "\n",
        "dsets = dblock.datasets('data')\n",
        "dsets.train[0]"
      ]
    },
    {
      "cell_type": "code",
      "execution_count": null,
      "metadata": {
        "id": "EuysHlheUIaQ"
      },
      "outputs": [],
      "source": [
        "dsets.vocab"
      ]
    },
    {
      "cell_type": "code",
      "execution_count": null,
      "metadata": {
        "id": "nVJjFzEsUSO8"
      },
      "outputs": [],
      "source": [
        "dls = dblock.dataloaders(\"data\", bs=4)\n",
        "dls.show_batch(max_n=9, figsize=(4,4))"
      ]
    },
    {
      "cell_type": "code",
      "execution_count": null,
      "metadata": {
        "id": "irGMGkHXUVKx"
      },
      "outputs": [],
      "source": [
        "learn = Learner(dls, xresnet34(n_out=2), metrics=accuracy)"
      ]
    },
    {
      "cell_type": "code",
      "execution_count": null,
      "metadata": {
        "id": "tXD4b_01UWrR"
      },
      "outputs": [],
      "source": [
        "learn.fine_tune(10)"
      ]
    },
    {
      "cell_type": "code",
      "execution_count": null,
      "metadata": {
        "id": "LK8CYPwnUdzm"
      },
      "outputs": [],
      "source": [
        "preds, y, losses = learn.get_preds(with_loss=True)\n",
        "interp = ClassificationInterpretation.from_learner(learn)\n",
        "interp.plot_confusion_matrix()"
      ]
    },
    {
      "cell_type": "code",
      "execution_count": null,
      "metadata": {
        "id": "WHOpZE2KUhk9"
      },
      "outputs": [],
      "source": [
        "learn.show_results()"
      ]
    },
    {
      "cell_type": "code",
      "execution_count": null,
      "metadata": {
        "id": "DpBC25a4Um3Z"
      },
      "outputs": [],
      "source": [
        "img=PILImage(load_image('tr1.jpg'))\n",
        "pred = learn.predict(img)"
      ]
    }
  ],
  "metadata": {
    "colab": {
      "authorship_tag": "ABX9TyNAJ08l5qGLSmwhwHGfuuYn",
      "include_colab_link": true,
      "name": "Untitled0.ipynb",
      "provenance": []
    },
    "kernelspec": {
      "display_name": "Python 3",
      "name": "python3"
    },
    "language_info": {
      "name": "python"
    }
  },
  "nbformat": 4,
  "nbformat_minor": 0
}
