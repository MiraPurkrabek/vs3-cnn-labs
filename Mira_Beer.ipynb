{
  "nbformat": 4,
  "nbformat_minor": 0,
  "metadata": {
    "colab": {
      "name": "Untitled0.ipynb",
      "provenance": [],
      "authorship_tag": "ABX9TyNAJ08l5qGLSmwhwHGfuuYn",
      "include_colab_link": true
    },
    "kernelspec": {
      "name": "python3",
      "display_name": "Python 3"
    },
    "language_info": {
      "name": "python"
    }
  },
  "cells": [
    {
      "cell_type": "markdown",
      "metadata": {
        "id": "view-in-github",
        "colab_type": "text"
      },
      "source": [
        "<a href=\"https://colab.research.google.com/github/MiraPurkrabek/vs3-cnn-labs/blob/main/Mira_Beer.ipynb\" target=\"_parent\"><img src=\"https://colab.research.google.com/assets/colab-badge.svg\" alt=\"Open In Colab\"/></a>"
      ]
    },
    {
      "cell_type": "code",
      "source": [
        "!pip install kornia timm"
      ],
      "metadata": {
        "id": "acueeEjFTIo_"
      },
      "execution_count": null,
      "outputs": []
    },
    {
      "cell_type": "code",
      "source": [
        "from fastai.vision.all import *"
      ],
      "metadata": {
        "id": "uNtUr_7OTUD4"
      },
      "execution_count": null,
      "outputs": []
    },
    {
      "cell_type": "code",
      "source": [
        "%load_ext autoreload\n",
        "%autoreload 2\n",
        "%matplotlib inline\n",
        "\n",
        "import matplotlib.pyplot as plt\n",
        "import numpy as np\n",
        "import cv2\n",
        "import seaborn as sns\n",
        "import torch\n",
        "torch.set_num_threads(1)\n",
        "import torch.nn as nn\n",
        "import torch.nn.functional as F\n",
        "import torchvision as tv\n",
        "import kornia as K\n",
        "from tqdm import tqdm_notebook as tqdm\n",
        "from time import time\n",
        "\n",
        "def imshow_torch(tensor,figsize=(8,6), *kwargs):\n",
        "    plt.figure(figsize=figsize)\n",
        "    plt.imshow(K.tensor_to_image(tensor), *kwargs)\n",
        "    return\n",
        "\n",
        "def imshow_torch_channels(tensor, dim = 1, *kwargs):\n",
        "    num_ch = tensor.size(dim)\n",
        "    fig=plt.figure(figsize=(num_ch*5,5))\n",
        "    tensor_splitted = torch.split(tensor, 1, dim=dim)\n",
        "    for i in range(num_ch):\n",
        "        fig.add_subplot(1, num_ch, i+1)\n",
        "        plt.imshow(K.tensor_to_image(tensor_splitted[i].squeeze(dim)), *kwargs)\n",
        "    return"
      ],
      "metadata": {
        "id": "moq8VYE7TX9P"
      },
      "execution_count": null,
      "outputs": []
    },
    {
      "cell_type": "code",
      "source": [
        "!wget https://s3.amazonaws.com/fast-ai-imageclas/imagenette2-160.tgz\n",
        "!tar -xzf imagenette2-160.tgz"
      ],
      "metadata": {
        "id": "oFkrl9QVTeCt"
      },
      "execution_count": null,
      "outputs": []
    },
    {
      "cell_type": "code",
      "execution_count": null,
      "metadata": {
        "id": "MrXPUKPFSbun"
      },
      "outputs": [],
      "source": [
        "dls = ImageDataLoaders.from_folder('imagenette2-160/',\n",
        "                                   valid='val', \n",
        "                                   item_tfms=RandomResizedCrop(128, min_scale=0.35),\n",
        "                                   batch_tfms=Normalize.from_stats(*imagenet_stats))\n",
        "\n",
        "# if a string is passed into the model argument, it will now use timm (if it is installed)\n",
        "learn = vision_learner(dls, 'resnet18',  metrics=error_rate)\n"
      ]
    },
    {
      "cell_type": "code",
      "source": [
        "dls.show_batch()"
      ],
      "metadata": {
        "id": "iSqmqnrzTqJF"
      },
      "execution_count": null,
      "outputs": []
    },
    {
      "cell_type": "code",
      "source": [
        "learn.lr_find()"
      ],
      "metadata": {
        "id": "G1DVmHpXTs3J"
      },
      "execution_count": null,
      "outputs": []
    },
    {
      "cell_type": "code",
      "source": [
        "learn.fine_tune(5,base_lr = 2e-4, freeze_epochs=2, cbs=[ShowGraphCallback()])"
      ],
      "metadata": {
        "id": "zPk98vhHTvLR"
      },
      "execution_count": null,
      "outputs": []
    },
    {
      "cell_type": "markdown",
      "source": [
        "# Task\n",
        "\n",
        "Beer vs Trdelnik recognition"
      ],
      "metadata": {
        "id": "YacTphWuT9QH"
      }
    },
    {
      "cell_type": "code",
      "source": [
        "from fastai.data.all import *\n",
        "from fastai.vision.all import *\n",
        "\n",
        "fnames = get_image_files('data/')\n",
        "\n",
        "def label_func(fname):\n",
        "    return str(fname).split('/')[1]"
      ],
      "metadata": {
        "id": "81ETfmOMT-uC"
      },
      "execution_count": null,
      "outputs": []
    },
    {
      "cell_type": "code",
      "source": [
        "dblock = DataBlock(blocks    = (ImageBlock, CategoryBlock),\n",
        "                   get_items = get_image_files,\n",
        "                   get_y     = label_func,\n",
        "                   splitter  = RandomSplitter(),\n",
        "                   item_tfms = Resize(224))\n",
        "\n",
        "dsets = dblock.datasets('data')\n",
        "dsets.train[0]"
      ],
      "metadata": {
        "id": "SzXXOIRZUF1e"
      },
      "execution_count": null,
      "outputs": []
    },
    {
      "cell_type": "code",
      "source": [
        "dsets.vocab"
      ],
      "metadata": {
        "id": "EuysHlheUIaQ"
      },
      "execution_count": null,
      "outputs": []
    },
    {
      "cell_type": "code",
      "source": [
        "dls = dblock.dataloaders(\"data\", bs=4)\n",
        "dls.show_batch(max_n=9, figsize=(4,4))"
      ],
      "metadata": {
        "id": "nVJjFzEsUSO8"
      },
      "execution_count": null,
      "outputs": []
    },
    {
      "cell_type": "code",
      "source": [
        "learn = Learner(dls, xresnet34(n_out=2), metrics=accuracy)"
      ],
      "metadata": {
        "id": "irGMGkHXUVKx"
      },
      "execution_count": null,
      "outputs": []
    },
    {
      "cell_type": "code",
      "source": [
        "learn.fine_tune(10)"
      ],
      "metadata": {
        "id": "tXD4b_01UWrR"
      },
      "execution_count": null,
      "outputs": []
    },
    {
      "cell_type": "code",
      "source": [
        "preds, y, losses = learn.get_preds(with_loss=True)\n",
        "interp = ClassificationInterpretation.from_learner(learn)\n",
        "interp.plot_confusion_matrix()"
      ],
      "metadata": {
        "id": "LK8CYPwnUdzm"
      },
      "execution_count": null,
      "outputs": []
    },
    {
      "cell_type": "code",
      "source": [
        "learn.show_results()"
      ],
      "metadata": {
        "id": "WHOpZE2KUhk9"
      },
      "execution_count": null,
      "outputs": []
    },
    {
      "cell_type": "code",
      "source": [
        "img=PILImage(load_image('tr1.jpg'))\n",
        "pred = learn.predict(img)"
      ],
      "metadata": {
        "id": "DpBC25a4Um3Z"
      },
      "execution_count": null,
      "outputs": []
    }
  ]
}